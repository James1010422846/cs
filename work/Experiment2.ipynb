{
 "cells": [
  {
   "cell_type": "code",
   "execution_count": 1,
   "metadata": {
    "pycharm": {},
    "slideshow": {
     "slide_type": "skip"
    }
   },
   "outputs": [],
   "source": [
    "import pandas as pd\n",
    "import numpy as np\n",
    "\n",
    "from pycta.portfolio import Portfolio\n",
    "from pycta.beakerx import *"
   ]
  },
  {
   "cell_type": "code",
   "execution_count": 2,
   "metadata": {
    "pycharm": {},
    "slideshow": {
     "slide_type": "skip"
    }
   },
   "outputs": [],
   "source": [
    "# Load prices\n",
    "prices = pd.read_csv(\"data/prices.csv\", index_col=0, parse_dates=True).ffill().truncate(before=\"1970-01-01\")"
   ]
  },
  {
   "cell_type": "code",
   "execution_count": 5,
   "metadata": {
    "pycharm": {},
    "slideshow": {
     "slide_type": "slide"
    }
   },
   "outputs": [],
   "source": [
    "# take two moving averages and apply the sign-function, adjust by volatility\n",
    "def f(price, fast=32, slow=96, volatility=32):\n",
    "    s = price.ewm(com=slow, min_periods=300).mean()\n",
    "    f = price.ewm(com=fast, min_periods=300).mean()\n",
    "    std = price.pct_change().ewm(com=volatility, min_periods=300).std()\n",
    "    return np.sign(f-s)/std"
   ]
  },
  {
   "cell_type": "code",
   "execution_count": 6,
   "metadata": {
    "pycharm": {},
    "slideshow": {
     "slide_type": "slide"
    }
   },
   "outputs": [
    {
     "data": {
      "application/vnd.jupyter.widget-view+json": {
       "model_id": "d124576e6da948829b5db27ed8e59b55",
       "version_major": 2,
       "version_minor": 0
      },
      "method": "display_data"
     },
     "metadata": {},
     "output_type": "display_data"
    }
   ],
   "source": [
    "form = EasyForm(\"Configuration\")\n",
    "form.addTextField(\"fast\")\n",
    "form.addTextField(\"slow\")\n",
    "form.addTextField(\"volatility\")\n",
    "form.addButton(\"Go!\", tag=\"run\")\n",
    "form\n"
   ]
  },
  {
   "cell_type": "code",
   "execution_count": 7,
   "metadata": {
    "pycharm": {},
    "slideshow": {
     "slide_type": "slide"
    },
    "tags": [
     "run"
    ]
   },
   "outputs": [
    {
     "name": "stderr",
     "output_type": "stream",
     "text": [
      "/opt/conda/lib/python3.7/site-packages/beakerx/tabledisplay/tabledisplay.py:109: FutureWarning: The 'get_values' method is deprecated and will be removed in a future version. Use '.to_numpy()' or '.array' instead.\n",
      "  value = args[0][columnName].get_values()[index]\n",
      "/opt/conda/lib/python3.7/site-packages/beakerx/tabledisplay/tabledisplay.py:114: FutureWarning: The 'get_values' method is deprecated and will be removed in a future version. Use '.to_numpy()' or '.array' instead.\n",
      "  index_values = args[0].index.get_values()[index]\n"
     ]
    },
    {
     "data": {
      "application/vnd.jupyter.widget-view+json": {
       "model_id": "4952ef021c7946f0ae9b7b258fd5cc62",
       "version_major": 2,
       "version_minor": 0
      },
      "method": "display_data"
     },
     "metadata": {},
     "output_type": "display_data"
    }
   ],
   "source": [
    "portfolio = Portfolio(prices=prices, position=prices.apply(f, fast=int(form[\"fast\"] or 32), slow=int(form[\"slow\"] or 96), volatility=int(form[\"volatility\"] or 96)))\n",
    "analysis(portfolio.nav())"
   ]
  },
  {
   "cell_type": "markdown",
   "metadata": {
    "pycharm": {},
    "slideshow": {
     "slide_type": "slide"
    }
   },
   "source": [
    "* This is a **univariate** trading system, we map the (real) price of an asset to its (cash)position\n",
    "* Only 3 **free parameters** used here.\n",
    "* Only 4 lines of code\n",
    "* Scaling the bet-size by volatility has improved the situation."
   ]
  },
  {
   "cell_type": "markdown",
   "metadata": {
    "pycharm": {},
    "slideshow": {
     "slide_type": "slide"
    }
   },
   "source": [
    "Results do not look terrible but...\n",
    "* No concept of risk integrated \n",
    "\n",
    "Often hedge funds outsource the risk management to some board or committee\n",
    "and develop machinery for more systematic **parameter-hacking**."
   ]
  }
 ],
 "metadata": {
  "celltoolbar": "Slideshow",
  "kernelspec": {
   "display_name": "Python 3",
   "language": "python",
   "name": "python3"
  },
  "language_info": {
   "codemirror_mode": {
    "name": "ipython",
    "version": 3
   },
   "file_extension": ".py",
   "mimetype": "text/x-python",
   "name": "python",
   "nbconvert_exporter": "python",
   "pygments_lexer": "ipython3",
   "version": "3.7.3"
  },
  "toc": {
   "base_numbering": 1,
   "nav_menu": {},
   "number_sections": false,
   "sideBar": false,
   "skip_h1_title": false,
   "title_cell": "Table of Contents",
   "title_sidebar": "Contents",
   "toc_cell": false,
   "toc_position": {},
   "toc_section_display": false,
   "toc_window_display": false
  }
 },
 "nbformat": 4,
 "nbformat_minor": 4
}
