{
  "cells": [
    {
      "cell_type": "code",
      "execution_count": 1,
      "metadata": {
        "slideshow": {
          "slide_type": "skip"
        },
        "pycharm": {}
      },
      "outputs": [],
      "source": [
        "import pandas as pd\n",
        "import numpy as np\n",
        "\n",
        "from pycta.portfolio import Portfolio\n",
        "from pycta.beakerx import *"
      ]
    },
    {
      "cell_type": "code",
      "execution_count": 2,
      "metadata": {
        "slideshow": {
          "slide_type": "skip"
        },
        "pycharm": {}
      },
      "outputs": [],
      "source": "# Load prices\nprices \u003d pd.read_csv(\"data/prices.csv\", index_col\u003d0, parse_dates\u003dTrue).ffill().truncate(before\u003d\"1970-01-01\")"
    },
    {
      "cell_type": "code",
      "execution_count": 3,
      "metadata": {
        "slideshow": {
          "slide_type": "slide"
        },
        "pycharm": {}
      },
      "outputs": [],
      "source": [
        "# take two moving averages and apply the sign-function, adjust by volatility\n",
        "def f(price, fast\u003d32, slow\u003d96, volatility\u003d32):\n",
        "    s \u003d price.ewm(com\u003dslow, min_periods\u003d300).mean()\n",
        "    f \u003d price.ewm(com\u003dfast, min_periods\u003d300).mean()\n",
        "    std \u003d price.pct_change().ewm(com\u003dvolatility, min_periods\u003d300).std()\n",
        "    return np.sign(f-s)/std"
      ]
    },
    {
      "cell_type": "code",
      "execution_count": 6,
      "metadata": {
        "slideshow": {
          "slide_type": "slide"
        },
        "pycharm": {}
      },
      "outputs": [
        {
          "data": {
            "application/vnd.jupyter.widget-view+json": {
              "model_id": "bfa363658c8d41c6bac734753c3c4c84",
              "version_major": 2,
              "version_minor": 0
            },
            "method": "display_data"
          },
          "metadata": {},
          "output_type": "display_data"
        }
      ],
      "source": [
        "form \u003d EasyForm(\"Configuration\")\n",
        "form.addTextField(\"fast\")\n",
        "form.addTextField(\"slow\")\n",
        "form.addTextField(\"volatility\")\n",
        "form.addButton(\"Go!\", tag\u003d\"run\")\n",
        "form\n"
      ]
    },
    {
      "cell_type": "code",
      "execution_count": 9,
      "metadata": {
        "slideshow": {
          "slide_type": "slide"
        },
        "tags": [
          "run"
        ],
        "pycharm": {}
      },
      "outputs": [
        {
          "data": {
            "application/vnd.jupyter.widget-view+json": {
              "model_id": "e1d8aa56431640759d41c071118f5403",
              "version_major": 2,
              "version_minor": 0
            },
            "method": "display_data"
          },
          "metadata": {},
          "output_type": "display_data"
        }
      ],
      "source": [
        "portfolio \u003d Portfolio(prices\u003dprices, position\u003dprices.apply(f, fast\u003dint(form[\"fast\"] or 32), slow\u003dint(form[\"slow\"] or 96), volatility\u003dint(form[\"volatility\"] or 96)))\n",
        "analysis(portfolio.nav())"
      ]
    },
    {
      "cell_type": "markdown",
      "metadata": {
        "slideshow": {
          "slide_type": "slide"
        },
        "pycharm": {}
      },
      "source": [
        "* This is a **univariate** trading system, we map the (real) price of an asset to its (cash)position\n",
        "* Only 3 **free parameters** used here.\n",
        "* Only 4 lines of code\n",
        "* Scaling the bet-size by volatility has improved the situation."
      ]
    },
    {
      "cell_type": "markdown",
      "metadata": {
        "slideshow": {
          "slide_type": "slide"
        },
        "pycharm": {}
      },
      "source": [
        "Results do not look terrible but...\n",
        "* No concept of risk integrated \n",
        "\n",
        "Often hedge funds outsource the risk management to some board or committee\n",
        "and develop machinery for more systematic **parameter-hacking**."
      ]
    }
  ],
  "metadata": {
    "celltoolbar": "Slideshow",
    "kernelspec": {
      "display_name": "Python 3",
      "language": "python",
      "name": "python3"
    },
    "language_info": {
      "codemirror_mode": {
        "name": "ipython",
        "version": 3
      },
      "file_extension": ".py",
      "mimetype": "text/x-python",
      "name": "python",
      "nbconvert_exporter": "python",
      "pygments_lexer": "ipython3",
      "version": "3.6.7"
    },
    "toc": {
      "base_numbering": 1,
      "nav_menu": {},
      "number_sections": false,
      "sideBar": false,
      "skip_h1_title": false,
      "title_cell": "Table of Contents",
      "title_sidebar": "Contents",
      "toc_cell": false,
      "toc_position": {},
      "toc_section_display": false,
      "toc_window_display": false
    }
  },
  "nbformat": 4,
  "nbformat_minor": 2
}