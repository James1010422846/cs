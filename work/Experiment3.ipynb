{
 "cells": [
  {
   "cell_type": "code",
   "execution_count": 1,
   "metadata": {
    "pycharm": {},
    "slideshow": {
     "slide_type": "skip"
    }
   },
   "outputs": [],
   "source": [
    "import pandas as pd\n",
    "import matplotlib.pyplot as plt\n",
    "from beakerx import *\n",
    "\n",
    "from pycta.portfolio import Portfolio\n",
    "from pycta.analysis import Analysis\n",
    "\n",
    "import warnings\n",
    "warnings.simplefilter(action='ignore', category=FutureWarning)"
   ]
  },
  {
   "cell_type": "code",
   "execution_count": 2,
   "metadata": {
    "pycharm": {},
    "slideshow": {
     "slide_type": "skip"
    }
   },
   "outputs": [],
   "source": [
    "# Load prices\n",
    "prices = pd.read_csv(\"data/p_ob.csv\", index_col=0, parse_dates=True).ffill().truncate(before=\"1970-01-01\")"
   ]
  },
  {
   "cell_type": "markdown",
   "metadata": {
    "pycharm": {},
    "slideshow": {
     "slide_type": "slide"
    }
   },
   "source": [
    "We use the system:\n",
    "$$\\mathrm{CashPosition}=\\frac{f(\\mathrm{Price})}{\\mathrm{Volatility(Returns)}}$$\n",
    "\n",
    "This is very problematic:\n",
    "* Prices may live on very different scales, hence trying to find a more universal function $f$ is almost impossible. The sign-function was a good choice as the results don't depend on the scale of the argument.\n",
    "* Price may come with all sorts of spikes/outliers/problems."
   ]
  },
  {
   "cell_type": "markdown",
   "metadata": {
    "pycharm": {},
    "slideshow": {
     "slide_type": "slide"
    }
   },
   "source": [
    "We need a simple price filter process\n",
    "* We compute volatility-adjusted returns, filter them and compute prices from those returns. \n",
    "* Don't call it Winsorizing in Switzerland. We apply Huber functions. \n"
   ]
  },
  {
   "cell_type": "code",
   "execution_count": 3,
   "metadata": {
    "pycharm": {},
    "slideshow": {
     "slide_type": "slide"
    }
   },
   "outputs": [],
   "source": [
    "def filter(price, volatility=32,clip=4.2, min_periods=300):    \n",
    "    r = np.log(price).diff()\n",
    "    vola = r.ewm(com=volatility, min_periods=min_periods).std()\n",
    "    price_adj = (r/vola).clip(-clip, clip).cumsum()\n",
    "    return price_adj"
   ]
  },
  {
   "cell_type": "markdown",
   "metadata": {
    "pycharm": {},
    "slideshow": {
     "slide_type": "slide"
    }
   },
   "source": [
    "### Oscillators\n",
    "* All prices are now following a standard arithmetic Brownian motion with std $1$.\n",
    "* What we want is the difference of two moving means (exponentially weighted) to have a constant std regardless of the two lengths.\n",
    "* An oscillator is the **scaled difference of two moving averages**.\n"
   ]
  },
  {
   "cell_type": "code",
   "execution_count": 4,
   "metadata": {
    "pycharm": {},
    "slideshow": {
     "slide_type": "slide"
    }
   },
   "outputs": [],
   "source": [
    "import numpy as np\n",
    "def osc(prices, fast=32, slow=96, scaling=True):\n",
    "    diff = prices.ewm(com=fast-1).mean() - prices.ewm(com=slow-1).mean()\n",
    "    if scaling:\n",
    "        s = diff.std()\n",
    "    else:\n",
    "        s = 1\n",
    "\n",
    "    return diff/s"
   ]
  },
  {
   "cell_type": "code",
   "execution_count": 5,
   "metadata": {
    "pycharm": {},
    "slideshow": {
     "slide_type": "slide"
    }
   },
   "outputs": [
    {
     "name": "stdout",
     "output_type": "stream",
     "text": [
      "The std for the oscillator (Should be close to 1.0):\n",
      "0.9999949999874997\n"
     ]
    }
   ],
   "source": [
    "from numpy.random import randn\n",
    "import pandas as pd\n",
    "price = pd.Series(data=randn(100000)).cumsum()\n",
    "\n",
    "o = osc(price, 40, 200, scaling=True)\n",
    "print(\"The std for the oscillator (Should be close to 1.0):\")\n",
    "print(np.std(o))"
   ]
  },
  {
   "cell_type": "code",
   "execution_count": 6,
   "metadata": {
    "pycharm": {},
    "slideshow": {
     "slide_type": "slide"
    }
   },
   "outputs": [],
   "source": [
    "#from pycta.signal import osc\n",
    "\n",
    "# take two moving averages and apply tanh\n",
    "def f(price, slow=96, fast=32, clip=3):\n",
    "    # construct a fake-price, those fake-prices have homescedastic returns\n",
    "    price_adj = filter(price, volatility=slow, clip=clip)\n",
    "    # compute mu\n",
    "    mu = np.tanh(osc(price_adj, fast=fast, slow=slow))\n",
    "    return mu/price.pct_change().ewm(com=slow, min_periods=300).std()"
   ]
  },
  {
   "cell_type": "code",
   "execution_count": 7,
   "metadata": {
    "pycharm": {},
    "slideshow": {
     "slide_type": "slide"
    }
   },
   "outputs": [
    {
     "name": "stderr",
     "output_type": "stream",
     "text": [
      "/opt/conda/lib/python3.7/site-packages/pandas/core/series.py:856: RuntimeWarning: invalid value encountered in log\n",
      "  result = getattr(ufunc, method)(*inputs, **kwargs)\n"
     ]
    }
   ],
   "source": [
    "portfolio = Portfolio(prices=prices, position=prices.apply(f))"
   ]
  },
  {
   "cell_type": "code",
   "execution_count": 8,
   "metadata": {
    "pycharm": {
     "name": "#%%\n"
    }
   },
   "outputs": [
    {
     "data": {
      "text/plain": [
       "Performance number\n",
       "Annua Return                        13.23\n",
       "Annua Volatility                    16.03\n",
       "Annua Sharpe Ratio (r_f = 0)         0.83\n",
       "Max Drawdown                        43.44\n",
       "Return                          43,995.05\n",
       "Kurtosis                             9.07\n",
       "dtype: object"
      ]
     },
     "execution_count": 8,
     "metadata": {},
     "output_type": "execute_result"
    }
   ],
   "source": [
    "a = Analysis(portfolio.nav())\n",
    "a.performance"
   ]
  },
  {
   "cell_type": "code",
   "execution_count": 9,
   "metadata": {
    "pycharm": {
     "name": "#%%\n"
    }
   },
   "outputs": [
    {
     "data": {
      "image/png": "[encoded data removed]",
      "text/plain": [
       "<Figure size 432x288 with 1 Axes>"
      ]
     },
     "metadata": {
      "needs_background": "light"
     },
     "output_type": "display_data"
    }
   ],
   "source": [
    "a.nav.plot(logy=True)\n",
    "plt.show()"
   ]
  },
  {
   "cell_type": "code",
   "execution_count": null,
   "outputs": [],
   "source": [
    "a.monthlytable"
   ],
   "metadata": {
    "collapsed": false,
    "pycharm": {
     "name": "#%%\n"
    }
   }
  },
  {
   "cell_type": "code",
   "execution_count": 10,
   "metadata": {
    "pycharm": {
     "name": "#%%\n"
    }
   },
   "outputs": [
    {
     "data": {
      "image/png": "[encoded data removed]",
      "text/plain": [
       "<Figure size 432x288 with 1 Axes>"
      ]
     },
     "metadata": {
      "needs_background": "light"
     },
     "output_type": "display_data"
    }
   ],
   "source": [
    "a.std.plot(kind=\"line\")\n",
    "plt.show()"
   ]
  },
  {
   "cell_type": "markdown",
   "metadata": {
    "pycharm": {},
    "slideshow": {
     "slide_type": "slide"
    }
   },
   "source": [
    "This system is still **univariate** and lacks **integrated risk management**:\n",
    "\n",
    "$$\\mathrm{CashPosition}=\\frac{f(\\mathrm{Filter}(\\mathrm{Price}))}{\\mathrm{Volatility(Returns)}}=\\frac{\\mu}{\\mathrm{Volatility}}$$\n",
    "\n",
    "Some hedge funds stop here. All energy goes into constructing $\\mu$."
   ]
  },
  {
   "cell_type": "markdown",
   "metadata": {
    "pycharm": {},
    "slideshow": {
     "slide_type": "slide"
    }
   },
   "source": [
    "* Suitable as it is possible to add/remove additional systems on the fly.\n",
    "* A typical CTA would run with a set of $5$ or $6$ functions $f$ acting on approx. $100$ assets. \n",
    "* Organisation by asset group.\n",
    "* Scaled signals make it easy to apply functions such as $\\tanh$ or combine various signals in a regression problem."
   ]
  },
  {
   "cell_type": "code",
   "execution_count": null,
   "metadata": {
    "pycharm": {}
   },
   "outputs": [],
   "source": []
  }
 ],
 "metadata": {
  "celltoolbar": "Slideshow",
  "kernelspec": {
   "display_name": "Python 3",
   "language": "python",
   "name": "python3"
  },
  "language_info": {
   "codemirror_mode": {
    "name": "ipython",
    "version": 3
   },
   "file_extension": ".py",
   "mimetype": "text/x-python",
   "name": "python",
   "nbconvert_exporter": "python",
   "pygments_lexer": "ipython3",
   "version": "3.7.6"
  },
  "toc": {
   "base_numbering": 1,
   "nav_menu": {},
   "number_sections": false,
   "sideBar": false,
   "skip_h1_title": false,
   "title_cell": "Table of Contents",
   "title_sidebar": "Contents",
   "toc_cell": false,
   "toc_position": {},
   "toc_section_display": false,
   "toc_window_display": false
  }
 },
 "nbformat": 4,
 "nbformat_minor": 4
}