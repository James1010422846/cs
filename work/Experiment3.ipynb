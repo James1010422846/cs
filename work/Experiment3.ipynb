{
  "cells": [
    {
      "cell_type": "code",
      "execution_count": 10,
      "metadata": {
        "slideshow": {
          "slide_type": "skip"
        },
        "pycharm": {}
      },
      "outputs": [],
      "source": [
        "import pandas as pd\n",
        "import numpy as np\n",
        "\n",
        "from pycta.portfolio import Portfolio\n",
        "from pycta.beakerx import *"
      ]
    },
    {
      "cell_type": "code",
      "execution_count": 11,
      "metadata": {
        "slideshow": {
          "slide_type": "skip"
        },
        "pycharm": {}
      },
      "outputs": [],
      "source": "# Load prices\nprices \u003d pd.read_csv(\"data/prices.csv\", index_col\u003d0, parse_dates\u003dTrue).ffill().truncate(before\u003d\"1970-01-01\")"
    },
    {
      "cell_type": "markdown",
      "metadata": {
        "slideshow": {
          "slide_type": "slide"
        },
        "pycharm": {}
      },
      "source": [
        "We use the system:\n",
        "$$\\mathrm{CashPosition}\u003d\\frac{f(\\mathrm{Price})}{\\mathrm{Volatility(Returns)}}$$\n",
        "\n",
        "This is very problematic:\n",
        "* Prices may live on very different scales, hence trying to find a more universal function $f$ is almost impossible. The sign-function was a good choice as the results don\u0027t depend on the scale of the argument.\n",
        "* Price may come with all sorts of spikes/outliers/problems."
      ]
    },
    {
      "cell_type": "markdown",
      "metadata": {
        "slideshow": {
          "slide_type": "slide"
        },
        "pycharm": {}
      },
      "source": [
        "We need a simple price filter process\n",
        "* We compute volatility-adjusted returns, filter them and compute prices from those returns. \n",
        "* Don\u0027t call it Winsorizing in Switzerland. We apply Huber functions. \n"
      ]
    },
    {
      "cell_type": "code",
      "execution_count": 12,
      "metadata": {
        "slideshow": {
          "slide_type": "slide"
        },
        "pycharm": {}
      },
      "outputs": [],
      "source": [
        "def filter(price, volatility\u003d32,clip\u003d4.2, min_periods\u003d300):    \n",
        "    r \u003d np.log(price).diff()\n",
        "    vola \u003d r.ewm(com\u003dvolatility, min_periods\u003dmin_periods).std()\n",
        "    price_adj \u003d (r/vola).clip(-clip, clip).cumsum()\n",
        "    return price_adj"
      ]
    },
    {
      "cell_type": "markdown",
      "metadata": {
        "slideshow": {
          "slide_type": "slide"
        },
        "pycharm": {}
      },
      "source": [
        "### Oscillators\n",
        "* All prices are now following a standard arithmetic Brownian motion with std $1$.\n",
        "* What we want is the difference of two moving means (exponentially weighted) to have a constant std regardless of the two lengths.\n",
        "* An oscillator is the **scaled difference of two moving averages**.\n"
      ]
    },
    {
      "cell_type": "code",
      "execution_count": 13,
      "metadata": {
        "slideshow": {
          "slide_type": "slide"
        },
        "pycharm": {}
      },
      "outputs": [],
      "source": [
        "import numpy as np\n",
        "def osc(prices, fast\u003d32, slow\u003d96, scaling\u003dTrue):\n",
        "    f,g \u003d 1 - 1/fast, 1-1/slow\n",
        "    if scaling:\n",
        "        s \u003d np.sqrt(1.0 / (1 - f * f) - 2.0 / (1 - f * g) + 1.0 / (1 - g * g))\n",
        "    else:\n",
        "        s \u003d 1\n",
        "    return (prices.ewm(com\u003dfast-1).mean() - prices.ewm(com\u003dslow-1).mean())/s"
      ]
    },
    {
      "cell_type": "code",
      "execution_count": 14,
      "metadata": {
        "slideshow": {
          "slide_type": "slide"
        },
        "pycharm": {}
      },
      "outputs": [
        {
          "name": "stdout",
          "output_type": "stream",
          "text": [
            "The std for the oscillator (Should be close to 1.0):\n",
            "9.95027330922014\n"
          ]
        }
      ],
      "source": [
        "from numpy.random import randn\n",
        "import pandas as pd\n",
        "price \u003d pd.Series(data\u003drandn(100000)).cumsum()\n",
        "\n",
        "o \u003d osc(price, 5, 200, scaling\u003dFalse)\n",
        "print(\"The std for the oscillator (Should be close to 1.0):\")\n",
        "print(np.std(o))"
      ]
    },
    {
      "cell_type": "code",
      "execution_count": 15,
      "metadata": {
        "slideshow": {
          "slide_type": "slide"
        },
        "pycharm": {}
      },
      "outputs": [],
      "source": [
        "#from pycta.signal import osc\n",
        "\n",
        "# take two moving averages and apply tanh\n",
        "def f(price, slow\u003d96, fast\u003d32, clip\u003d3):\n",
        "    # construct a fake-price, those fake-prices have homescedastic returns\n",
        "    price_adj \u003d filter(price, volatility\u003dslow, clip\u003dclip)\n",
        "    # compute mu\n",
        "    mu \u003d np.tanh(osc(price_adj, fast\u003dfast, slow\u003dslow))\n",
        "    return mu/price.pct_change().ewm(com\u003dslow, min_periods\u003d300).std()"
      ]
    },
    {
      "cell_type": "code",
      "execution_count": 16,
      "metadata": {
        "slideshow": {
          "slide_type": "slide"
        },
        "pycharm": {}
      },
      "outputs": [
        {
          "data": {
            "application/vnd.jupyter.widget-view+json": {
              "model_id": "e1bec91700714ef9bd45deb961089b14",
              "version_major": 2,
              "version_minor": 0
            },
            "method": "display_data"
          },
          "metadata": {},
          "output_type": "display_data"
        }
      ],
      "source": [
        "portfolio \u003d Portfolio(prices\u003dprices, position\u003dprices.apply(f))\n",
        "analysis(portfolio.nav())"
      ]
    },
    {
      "cell_type": "markdown",
      "metadata": {
        "slideshow": {
          "slide_type": "slide"
        },
        "pycharm": {}
      },
      "source": [
        "This system is still **univariate** and lacks **integrated risk management**:\n",
        "\n",
        "$$\\mathrm{CashPosition}\u003d\\frac{f(\\mathrm{Filter}(\\mathrm{Price}))}{\\mathrm{Volatility(Returns)}}\u003d\\frac{\\mu}{\\mathrm{Volatility}}$$\n",
        "\n",
        "Some hedge funds stop here. All energy goes into constructing $\\mu$."
      ]
    },
    {
      "cell_type": "markdown",
      "metadata": {
        "slideshow": {
          "slide_type": "slide"
        },
        "pycharm": {}
      },
      "source": [
        "* Suitable as it is possible to add/remove additional systems on the fly.\n",
        "* A typical CTA would run with a set of $5$ or $6$ functions $f$ acting on approx. $100$ assets. \n",
        "* Organisation by asset group.\n",
        "* Scaled signals make it easy to apply functions such as $\\tanh$ or combine various signals in a regression problem."
      ]
    },
    {
      "cell_type": "code",
      "execution_count": null,
      "metadata": {
        "pycharm": {}
      },
      "outputs": [],
      "source": []
    }
  ],
  "metadata": {
    "celltoolbar": "Slideshow",
    "kernelspec": {
      "display_name": "Python 3",
      "language": "python",
      "name": "python3"
    },
    "language_info": {
      "codemirror_mode": {
        "name": "ipython",
        "version": 3
      },
      "file_extension": ".py",
      "mimetype": "text/x-python",
      "name": "python",
      "nbconvert_exporter": "python",
      "pygments_lexer": "ipython3",
      "version": "3.6.7"
    },
    "toc": {
      "base_numbering": 1,
      "nav_menu": {},
      "number_sections": false,
      "sideBar": false,
      "skip_h1_title": false,
      "title_cell": "Table of Contents",
      "title_sidebar": "Contents",
      "toc_cell": false,
      "toc_position": {},
      "toc_section_display": false,
      "toc_window_display": false
    }
  },
  "nbformat": 4,
  "nbformat_minor": 2
}