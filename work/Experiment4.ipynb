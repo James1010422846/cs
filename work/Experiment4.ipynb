{
  "cells": [
    {
      "cell_type": "code",
      "execution_count": 6,
      "metadata": {
        "slideshow": {
          "slide_type": "skip"
        },
        "pycharm": {}
      },
      "outputs": [],
      "source": [
        "import pandas as pd\n",
        "import numpy as np\n",
        "\n",
        "from pycta.portfolio import Portfolio\n",
        "from pycta.beakerx import *\n",
        "from pycta.signal import *"
      ]
    },
    {
      "cell_type": "code",
      "execution_count": 7,
      "metadata": {
        "slideshow": {
          "slide_type": "skip"
        },
        "pycharm": {}
      },
      "outputs": [],
      "source": "# Load prices\nprices \u003d pd.read_csv(\"data/prices.csv\", index_col\u003d0, parse_dates\u003dTrue).ffill().truncate(before\u003d\"1970-01-01\")"
    },
    {
      "cell_type": "code",
      "execution_count": 8,
      "metadata": {
        "slideshow": {
          "slide_type": "slide"
        },
        "pycharm": {}
      },
      "outputs": [],
      "source": [
        "mu \u003d np.tanh(prices.apply(returns_adjust, com\u003d32, clip\u003d4.2).cumsum().apply(osc))\n",
        "vola \u003d prices.pct_change().ewm(com\u003d32, min_periods\u003d32).std()\n",
        "\n",
        "# compute the series of Euclidean norms by compute the sum of squares for each row\n",
        "euclid_norm \u003d np.sqrt((mu*mu).sum(axis\u003d1))\n",
        "\n",
        "# Divide each column of mu by the Euclidean norm\n",
        "risk_scaled \u003d mu.apply(lambda x: x/euclid_norm, axis\u003d0)\n",
        "\n",
        "portfolio \u003d Portfolio(prices\u003dprices, position\u003drisk_scaled/vola)"
      ]
    },
    {
      "cell_type": "code",
      "execution_count": 9,
      "metadata": {
        "slideshow": {
          "slide_type": "slide"
        },
        "pycharm": {}
      },
      "outputs": [
        {
          "data": {
            "application/vnd.jupyter.widget-view+json": {
              "model_id": "2a731420dc4e44b9b8fdd806ce91f35d",
              "version_major": 2,
              "version_minor": 0
            },
            "method": "display_data"
          },
          "metadata": {},
          "output_type": "display_data"
        }
      ],
      "source": [
        "analysis(portfolio.nav())"
      ]
    },
    {
      "cell_type": "markdown",
      "metadata": {
        "slideshow": {
          "slide_type": "slide"
        },
        "pycharm": {}
      },
      "source": [
        "# Conclusions\n",
        "* Diagonal Markowitz already helps to improve the Sharpe Ratio. \n",
        "* The risk position is always scaled such that the risk is constant. This helps in particular to bring down the Kurtosis.\n",
        "* The risk however does not reflect any cross-correlations."
      ]
    }
  ],
  "metadata": {
    "celltoolbar": "Slideshow",
    "kernelspec": {
      "display_name": "Python 3",
      "language": "python",
      "name": "python3"
    },
    "language_info": {
      "codemirror_mode": {
        "name": "ipython",
        "version": 3
      },
      "file_extension": ".py",
      "mimetype": "text/x-python",
      "name": "python",
      "nbconvert_exporter": "python",
      "pygments_lexer": "ipython3",
      "version": "3.6.7"
    },
    "toc": {
      "base_numbering": 1,
      "nav_menu": {},
      "number_sections": false,
      "sideBar": false,
      "skip_h1_title": false,
      "title_cell": "Table of Contents",
      "title_sidebar": "Contents",
      "toc_cell": false,
      "toc_position": {},
      "toc_section_display": false,
      "toc_window_display": false
    }
  },
  "nbformat": 4,
  "nbformat_minor": 2
}