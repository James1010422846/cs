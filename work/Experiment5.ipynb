{
 "cells": [
  {
   "cell_type": "code",
   "execution_count": 9,
   "metadata": {
    "pycharm": {},
    "slideshow": {
     "slide_type": "slide"
    }
   },
   "outputs": [],
   "source": [
    "import pandas as pd\n",
    "import matplotlib.pyplot as plt\n",
    "import numpy as np\n",
    "\n",
    "from pycta.portfolio import Portfolio\n",
    "from pycta.beakerx import *\n",
    "from pycta.analysis import Analysis\n",
    "from pycta.linalg import *\n",
    "from pycta.signal import *\n",
    "\n",
    "import warnings\n",
    "warnings.simplefilter(action='ignore', category=FutureWarning)"
   ]
  },
  {
   "cell_type": "code",
   "execution_count": 10,
   "metadata": {
    "pycharm": {},
    "slideshow": {
     "slide_type": "slide"
    }
   },
   "outputs": [],
   "source": [
    "# Load prices\n",
    "prices = pd.read_csv(\"data/prices.csv\", index_col=0, parse_dates=True).ffill().truncate(before=\"1970-01-01\")"
   ]
  },
  {
   "cell_type": "code",
   "execution_count": 11,
   "metadata": {
    "slideshow": {
     "slide_type": "slide"
    }
   },
   "outputs": [
    {
     "name": "stdout",
     "output_type": "stream",
     "text": [
      "29.091225385665894\n"
     ]
    }
   ],
   "source": [
    "T = time.time()\n",
    "correlation = 200\n",
    "\n",
    "# this is a lot faster than Pandas...\n",
    "position = np.nan*np.zeros_like(prices.values)\n",
    "\n",
    "returns_adj = prices.apply(returns_adjust, com=32, clip=4.2)\n",
    "# DCC by Engle\n",
    "cor = returns_adj.ewm(com=correlation, min_periods=correlation).corr()\n",
    "\n",
    "mu = np.tanh(returns_adj.cumsum().apply(osc)).values\n",
    "vo = prices.pct_change().ewm(com=32, min_periods=32).std().values\n",
    "\n",
    "for n,t in enumerate(prices.index):\n",
    "    matrix = shrink2id(cor.loc[t].values, lamb=0.5)\n",
    "    risk_position = solve(matrix, mu[n])/inv_a_norm(mu[n], matrix)\n",
    "    position[n] = risk_position/vo[n]\n",
    "\n",
    "portfolio = Portfolio(prices, pd.DataFrame(index=prices.index, columns=prices.keys(), data=position))\n",
    "print(time.time()-T)"
   ]
  },
  {
   "cell_type": "code",
   "execution_count": 12,
   "metadata": {
    "pycharm": {},
    "slideshow": {
     "slide_type": "slide"
    }
   },
   "outputs": [
    {
     "data": {
      "application/vnd.jupyter.widget-view+json": {
       "model_id": "bc0da04a1dce4da79b50f4c9cb581da2",
       "version_major": 2,
       "version_minor": 0
      },
      "method": "display_data"
     },
     "metadata": {},
     "output_type": "display_data"
    }
   ],
   "source": [
    "analysis(portfolio.nav())"
   ]
  },
  {
   "cell_type": "markdown",
   "metadata": {
    "pycharm": {},
    "slideshow": {
     "slide_type": "slide"
    }
   },
   "source": [
    "# Conclusions\n",
    "* Dramatic relativ improvements observable despite using the same signals as in previous Experiment.\n",
    "* Main difference here is to take advantage of cross-correlations in the risk measurement.\n",
    "* Possible to add constraints on individual assets or groups of them.\n",
    "* Possible to reflect trading costs in objective with regularization terms (Ridge, Lars, Elastic Nets, ...)"
   ]
  }
 ],
 "metadata": {
  "celltoolbar": "Slideshow",
  "kernelspec": {
   "display_name": "Python 3",
   "language": "python",
   "name": "python3"
  },
  "language_info": {
   "codemirror_mode": {
    "name": "ipython",
    "version": 3
   },
   "file_extension": ".py",
   "mimetype": "text/x-python",
   "name": "python",
   "nbconvert_exporter": "python",
   "pygments_lexer": "ipython3",
   "version": "3.7.6"
  },
  "toc": {
   "base_numbering": 1,
   "nav_menu": {},
   "number_sections": false,
   "sideBar": false,
   "skip_h1_title": false,
   "title_cell": "Table of Contents",
   "title_sidebar": "Contents",
   "toc_cell": false,
   "toc_position": {},
   "toc_section_display": false,
   "toc_window_display": false
  }
 },
 "nbformat": 4,
 "nbformat_minor": 4
}