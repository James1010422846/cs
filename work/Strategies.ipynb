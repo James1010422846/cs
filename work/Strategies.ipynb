{
  "cells": [
    {
      "cell_type": "code",
      "execution_count": 7,
      "metadata": {
        "slideshow": {
          "slide_type": "skip"
        },
        "pycharm": {}
      },
      "outputs": [
        {
          "data": {
            "text/plain": [
              "{\u0027transition\u0027: \u0027zoom\u0027,\n",
              " \u0027autolaunch\u0027: True,\n",
              " \u0027start_slideshow_at\u0027: \u0027beginning\u0027,\n",
              " \u0027scroll\u0027: True}"
            ]
          },
          "execution_count": 7,
          "metadata": {},
          "output_type": "execute_result"
        }
      ],
      "source": "from traitlets.config.manager import BaseJSONConfigManager\npath \u003d \"/opt/conda/envs/beakerx/etc/jupyter/nbconfig\"\ncm \u003d BaseJSONConfigManager(config_dir\u003dpath)\ncm.update(\"livereveal\", {\n    \"start_slideshow_at\": \"beginning\",\n    \"scroll\": True\n})"
    },
    {
      "cell_type": "markdown",
      "metadata": {
        "slideshow": {
          "slide_type": "slide"
        },
        "pycharm": {}
      },
      "source": [
        "# Implement a hedge fund strategy in 10 lines\n",
        "### Thomas Schmelzer\n",
        "### thomas.schmelzer@gmail.com\n",
        "### https://github.com/tschm/cs\n",
        "\n"
      ]
    },
    {
      "cell_type": "markdown",
      "metadata": {
        "slideshow": {
          "slide_type": "slide"
        },
        "pycharm": {}
      },
      "source": [
        "# DISCLAIMER\n",
        "\t\n",
        "This talk has been provided for information purposes only and is subject to change. It should not be interpreted as investment advice or any recommendation to buy or sell a particular security. The value of investments and the income derived from them may go down as well as up, investors may not recover what they invest. Investments in hedge funds are speculative and risks include, among other things, loss of all or a substantial portion of the investment due to leveraging, short-selling, use of derivatives or other speculative practices. FX transactions that are speculative carry, due to their complex nature, a high degree of financial risk. Investments in foreign currencies involve the additional risk that the foreign currency might lose value against the investor’s reference currency. They are intended only for investors who understand and are capable of assuming all risks involved. Exchange rate or currency forecasts are subject to fluctuation and should not be relied upon as a guarantee of future rates.\n",
        "\n",
        "I refuse to accept any responsibility for losses you suffer from when applying any of the strategies discussed here. You are invited to study the strategy and I hope it will provide a useful starting point for your research."
      ]
    },
    {
      "cell_type": "markdown",
      "metadata": {
        "slideshow": {
          "slide_type": "slide"
        },
        "pycharm": {}
      },
      "source": [
        "* Summer 2017: Lunch with Cyrus Fazel (CEO, Swissborg)\n",
        "* Motivation to implement a CTA strategy with less than 10 lines of code\n",
        "* Today: Attempt to help demystifying quantitative hedge funds and their level of sophistication."
      ]
    },
    {
      "cell_type": "markdown",
      "metadata": {
        "slideshow": {
          "slide_type": "slide"
        },
        "pycharm": {}
      },
      "source": [
        "Baz, Jamil and Granger, Nicolas M. and Harvey, Campbell R. and Le Roux, Nicolas and Rattray, Sandy, \n",
        "Dissecting Investment Strategies in the Cross Section and Time Series (December 4, 2015). \n",
        "Available at SSRN: https://ssrn.com/abstract\u003d2695101 or http://dx.doi.org/10.2139/ssrn.2695101\n"
      ]
    },
    {
      "cell_type": "markdown",
      "metadata": {
        "slideshow": {
          "slide_type": "slide"
        },
        "pycharm": {}
      },
      "source": [
        "# CTA \u003d Commodity Trading Advisor\n",
        "* Man AHL\n",
        "* Winton Capital\n",
        "* Aspect Capital\n",
        "* BlueTrend (part of BlueCrest, today Systematica)\n",
        "* Solaise Capital\n",
        "* Ashenden Capital\n",
        "* ...\n",
        "* Barclays CTA Index\n"
      ]
    },
    {
      "cell_type": "code",
      "execution_count": 2,
      "metadata": {
        "slideshow": {
          "slide_type": "skip"
        },
        "pycharm": {}
      },
      "outputs": [],
      "source": [
        "import pandas as pd\n",
        "import numpy as np\n",
        "\n",
        "from pycta.portfolio import Portfolio\n",
        "from pycta.beakerx import *\n",
        "from pycta.signal import *\n",
        "from pycta.linalg import *"
      ]
    },
    {
      "cell_type": "code",
      "execution_count": 3,
      "metadata": {
        "slideshow": {
          "slide_type": "slide"
        },
        "pycharm": {}
      },
      "outputs": [],
      "source": [
        "# Load prices for 49 futures\n",
        "prices \u003d pd.read_csv(\"data/prices2.csv\", index_col\u003d0, parse_dates\u003dTrue).ffill().truncate(before\u003d\"1970-01-01\")"
      ]
    },
    {
      "cell_type": "markdown",
      "metadata": {
        "slideshow": {
          "slide_type": "slide"
        },
        "pycharm": {}
      },
      "source": [
        "In a first experiment we run a classic MACD system:\n",
        "\n",
        "[Experiment 1](Experiment1.ipynb)"
      ]
    },
    {
      "cell_type": "markdown",
      "metadata": {
        "slideshow": {
          "slide_type": "slide"
        },
        "pycharm": {}
      },
      "source": [
        "In a second experiment we volatility-adjust the positions of a classic MACD system:\n",
        "\n",
        "[Experiment 2](Experiment2.ipynb)    "
      ]
    },
    {
      "cell_type": "markdown",
      "metadata": {
        "slideshow": {
          "slide_type": "slide"
        },
        "pycharm": {}
      },
      "source": [
        "In a third experiment we work with adjusted prices and apply oscillators\n",
        "\n",
        "[Experiment 3](Experiment3.ipynb)"
      ]
    },
    {
      "cell_type": "code",
      "execution_count": 7,
      "metadata": {
        "slideshow": {
          "slide_type": "slide"
        },
        "pycharm": {}
      },
      "outputs": [],
      "source": [
        "from pycta.signal import *\n",
        "\n",
        "# compute adjusted log returns\n",
        "prices_adj \u003d prices.apply(returns_adjust, com\u003d96, clip\u003d3).cumsum()\n",
        "\n",
        "vola \u003d prices.pct_change().ewm(com\u003d96, min_periods\u003d300).std()\n",
        "\n",
        "# take two moving averages and apply tanh\n",
        "def f(price, slow\u003d96, fast\u003d32, clip\u003d3):\n",
        "    return np.tanh(osc(price, fast\u003dfast, slow\u003dslow))\n",
        "\n",
        "portfolio \u003d Portfolio(prices\u003dprices, position\u003dprices_adj.apply(f)/vola) "
      ]
    },
    {
      "cell_type": "code",
      "execution_count": 8,
      "metadata": {
        "slideshow": {
          "slide_type": "slide"
        },
        "pycharm": {}
      },
      "outputs": [
        {
          "data": {
            "application/vnd.jupyter.widget-view+json": {
              "model_id": "9080170d7a2947b7810b2aa796e5c778",
              "version_major": 2,
              "version_minor": 0
            },
            "method": "display_data"
          },
          "metadata": {},
          "output_type": "display_data"
        }
      ],
      "source": [
        "analysis(portfolio.nav())"
      ]
    },
    {
      "cell_type": "markdown",
      "metadata": {
        "slideshow": {
          "slide_type": "slide"
        },
        "pycharm": {}
      },
      "source": [
        "* I have published essentially the code above on LinkedIn in 2017.\n",
        "* I got approximately 270 likes (that\u0027s $10\\,\\sigma$ for me), numerous comments and a few private messages.\n",
        "* https://www.linkedin.com/pulse/implement-cta-less-than-10-lines-code-thomas-schmelzer/"
      ]
    },
    {
      "cell_type": "markdown",
      "metadata": {
        "slideshow": {
          "slide_type": "slide"
        },
        "pycharm": {}
      },
      "source": [
        "* All systems we have seen are **univariate** and lack risk management (adding assets will increase the risk).\n",
        "* It\u0027s a good idea to scale positions with the inverse volatility.\n",
        "* The maintenance of univariate systems is almost trivial.\n",
        "* All systems operate in the space of cash positions.\n"
      ]
    },
    {
      "cell_type": "markdown",
      "metadata": {
        "slideshow": {
          "slide_type": "slide"
        },
        "pycharm": {}
      },
      "source": [
        "# My personal Views\n",
        "* Strategies should be **multivariate** as assets tend to be highly correlated.\n",
        "* A strategy should measure and control the risk.\n",
        "* The cash position is of limited use (in the context of futures).\n",
        "* It\u0027s helpful to allocate risk rather than capital (although both ideas are equivalent).\n",
        "* Data is here to correct **bias**. Having a strong bias is helpful and required. "
      ]
    },
    {
      "cell_type": "markdown",
      "metadata": {
        "slideshow": {
          "slide_type": "slide"
        },
        "pycharm": {}
      },
      "source": [
        "We take the step from univariate to multivariate systems and interpret univariate systems as a special case of the new class:\n",
        "\n",
        "[Optimization](Optimization.ipynb)"
      ]
    },
    {
      "cell_type": "markdown",
      "metadata": {
        "slideshow": {
          "slide_type": "slide"
        },
        "pycharm": {}
      },
      "source": [
        "In a fourth experiment we use the diagonal Markowitz approach\n",
        "\n",
        "[Experiment 4](Experiment4.ipynb)"
      ]
    },
    {
      "cell_type": "markdown",
      "metadata": {
        "slideshow": {
          "slide_type": "slide"
        },
        "pycharm": {}
      },
      "source": [
        "In a fifth experiment we run Markowitz (with shrinkage in the sample correlation matrix) on a Futures portfolio\n",
        "\n",
        "[Experiment 5](Experiment5.ipynb)"
      ]
    },
    {
      "cell_type": "markdown",
      "metadata": {
        "slideshow": {
          "slide_type": "slide"
        },
        "pycharm": {}
      },
      "source": [
        "# Conclusions I\n",
        "* Applying two moving averages gives a somewhat promising start (Experiment 1)\n",
        "* All positions should be scaled by the inverse price volatility (Experiment 2)\n",
        "* Using adjusted prices and scaled signals helps to address data problems and opens the door for statistics (Experiment 3)"
      ]
    },
    {
      "cell_type": "markdown",
      "metadata": {
        "slideshow": {
          "slide_type": "slide"
        },
        "pycharm": {}
      },
      "source": [
        "# Conclusions II\n",
        "* Asset allocation can be done both in cash and risk space. Risk wins (Optimization)\n",
        "* The common univariate systems are closely related to diagonal Markowitz (Experiment 4)\n",
        "* Ignoring cross correlations is a bad idea (Experiment 5)\n",
        "* The **smart combination of univariate trading systems** is extremely helpful to boost returns."
      ]
    },
    {
      "cell_type": "markdown",
      "metadata": {
        "slideshow": {
          "slide_type": "slide"
        },
        "pycharm": {}
      },
      "source": [
        "# What you haven\u0027t seen I\n",
        "* In practice you hardly can rely on the analytic solution of convex problems. Need solvers such as Mosek (and cvxpy). \n",
        "* We optimized the expected return (in risk space). In practice it\u0027s a good idea to apply regularization here (Ridge, Lasso, Elastic Nets) and introduce some mock trading costs to tame the trading activity. A typcial Markowitz system will trade far less than the univariate system. \n",
        "* Applying Lasso/Elastic Nets regularization opens the door for sparse updates."
      ]
    },
    {
      "cell_type": "markdown",
      "metadata": {
        "slideshow": {
          "slide_type": "slide"
        },
        "pycharm": {}
      },
      "source": [
        "# What you haven\u0027t seen II\n",
        "* The construction of more powerful signals is about the **smart combination of standard signals** by using convex programming (Index-Tracking).\n",
        "* We treated all underlying markets the same, e.g. did not distinguish capacity or measure market share\n",
        "* We did not address the problem of low volatilities, e.g. the system will operate with often huge positions (lack of volatility in interest rates). Constraints on the leverage help here..."
      ]
    }
  ],
  "metadata": {
    "celltoolbar": "Slideshow",
    "kernelspec": {
      "display_name": "Python 3",
      "language": "python",
      "name": "python3"
    },
    "language_info": {
      "codemirror_mode": {
        "name": "ipython",
        "version": 3
      },
      "file_extension": ".py",
      "mimetype": "text/x-python",
      "name": "python",
      "nbconvert_exporter": "python",
      "pygments_lexer": "ipython3",
      "version": "3.6.7"
    },
    "toc": {
      "base_numbering": 1,
      "nav_menu": {},
      "number_sections": false,
      "sideBar": false,
      "skip_h1_title": false,
      "title_cell": "Table of Contents",
      "title_sidebar": "Contents",
      "toc_cell": false,
      "toc_position": {},
      "toc_section_display": false,
      "toc_window_display": false
    }
  },
  "nbformat": 4,
  "nbformat_minor": 2
}