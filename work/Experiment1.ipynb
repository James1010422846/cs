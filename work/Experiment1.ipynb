{
 "cells": [
  {
   "cell_type": "code",
   "execution_count": 1,
   "metadata": {
    "pycharm": {},
    "slideshow": {
     "slide_type": "skip"
    }
   },
   "outputs": [],
   "source": [
    "import pandas as pd\n",
    "import numpy as np\n",
    "\n",
    "from pycta.portfolio import Portfolio\n",
    "from pycta.beakerx import *"
   ]
  },
  {
   "cell_type": "code",
   "execution_count": 2,
   "metadata": {
    "pycharm": {},
    "slideshow": {
     "slide_type": "skip"
    }
   },
   "outputs": [],
   "source": [
    "# Load prices\n",
    "prices = pd.read_csv(\"data/prices.csv\", index_col=0, parse_dates=True).ffill().truncate(before=\"1970-01-01\")"
   ]
  },
  {
   "cell_type": "code",
   "execution_count": 3,
   "metadata": {
    "pycharm": {},
    "slideshow": {
     "slide_type": "slide"
    }
   },
   "outputs": [],
   "source": [
    "# take two moving averages and apply sign-functiond\n",
    "def f(price, fast=32, slow=96):\n",
    "    s = price.ewm(com=slow, min_periods=300).mean()\n",
    "    f = price.ewm(com=fast, min_periods=300).mean()\n",
    "    return np.sign(f-s)"
   ]
  },
  {
   "cell_type": "code",
   "execution_count": 4,
   "metadata": {
    "pycharm": {},
    "slideshow": {
     "slide_type": "slide"
    }
   },
   "outputs": [
    {
     "data": {
      "application/vnd.jupyter.widget-view+json": {
       "model_id": "8548c25edafe407cabee1b455c5bfd29",
       "version_major": 2,
       "version_minor": 0
      },
      "method": "display_data"
     },
     "metadata": {},
     "output_type": "display_data"
    }
   ],
   "source": [
    "form = EasyForm(\"Configuration\")\n",
    "form.addTextField(\"fast\")\n",
    "form.addTextField(\"slow\")\n",
    "form.addButton(\"Go!\", tag=\"run\")\n",
    "form "
   ]
  },
  {
   "cell_type": "code",
   "execution_count": 5,
   "metadata": {
    "pycharm": {},
    "slideshow": {
     "slide_type": "slide"
    },
    "tags": [
     "run"
    ]
   },
   "outputs": [
    {
     "name": "stderr",
     "output_type": "stream",
     "text": [
      "/opt/conda/lib/python3.7/site-packages/beakerx/tabledisplay/tabledisplay.py:109: FutureWarning: The 'get_values' method is deprecated and will be removed in a future version. Use '.to_numpy()' or '.array' instead.\n",
      "  value = args[0][columnName].get_values()[index]\n",
      "/opt/conda/lib/python3.7/site-packages/beakerx/tabledisplay/tabledisplay.py:114: FutureWarning: The 'get_values' method is deprecated and will be removed in a future version. Use '.to_numpy()' or '.array' instead.\n",
      "  index_values = args[0].index.get_values()[index]\n"
     ]
    },
    {
     "data": {
      "application/vnd.jupyter.widget-view+json": {
       "model_id": "d0f8699b8f3f449186628126faeeb19c",
       "version_major": 2,
       "version_minor": 0
      },
      "method": "display_data"
     },
     "metadata": {},
     "output_type": "display_data"
    }
   ],
   "source": [
    "portfolio = Portfolio(prices=prices, position=prices.apply(f, fast=int(form[\"fast\"] or 32), slow=int(form[\"slow\"] or 96)))\n",
    "analysis(portfolio.nav())"
   ]
  },
  {
   "cell_type": "markdown",
   "metadata": {
    "pycharm": {},
    "slideshow": {
     "slide_type": "slide"
    }
   },
   "source": [
    "* This is a **univariate** trading system, we map the (real) price of an asset to its (cash)position.\n",
    "* Some hedge funds would argue that they are running 49 trading systems.\n",
    "* Only 2 **free parameters** used here.\n",
    "* Only 3 lines of code."
   ]
  },
  {
   "cell_type": "markdown",
   "metadata": {
    "pycharm": {},
    "slideshow": {
     "slide_type": "slide"
    }
   },
   "source": [
    "Results do not look terrible but...\n",
    "* No concept of risk integrated. \n",
    "* The size of each bet is constant regardless of the underlying asset.\n",
    "* The system lost its mojo in 2009 and has never really recovered.\n",
    "* The sign function is very expensive to trade as position changes are too extreme."
   ]
  },
  {
   "cell_type": "markdown",
   "metadata": {
    "pycharm": {},
    "slideshow": {
     "slide_type": "slide"
    }
   },
   "source": [
    "Such fundamental flaws are not addressed by **parameter-hacking** or **pimp-my-trading-system** steps (remove the worst performing assets, insane quantity of stop-loss limits, ...)"
   ]
  },
  {
   "cell_type": "code",
   "execution_count": null,
   "metadata": {},
   "outputs": [],
   "source": []
  }
 ],
 "metadata": {
  "celltoolbar": "Slideshow",
  "kernelspec": {
   "display_name": "Python 3",
   "language": "python",
   "name": "python3"
  },
  "language_info": {
   "codemirror_mode": {
    "name": "ipython",
    "version": 3
   },
   "file_extension": ".py",
   "mimetype": "text/x-python",
   "name": "python",
   "nbconvert_exporter": "python",
   "pygments_lexer": "ipython3",
   "version": "3.7.3"
  },
  "toc": {
   "base_numbering": 1,
   "nav_menu": {},
   "number_sections": false,
   "sideBar": false,
   "skip_h1_title": false,
   "title_cell": "Table of Contents",
   "title_sidebar": "Contents",
   "toc_cell": false,
   "toc_position": {},
   "toc_section_display": false,
   "toc_window_display": false
  }
 },
 "nbformat": 4,
 "nbformat_minor": 2
}
